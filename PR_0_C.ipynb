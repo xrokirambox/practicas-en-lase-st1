{
  "nbformat": 4,
  "nbformat_minor": 0,
  "metadata": {
    "colab": {
      "provenance": [],
      "include_colab_link": true
    },
    "kernelspec": {
      "name": "python3",
      "display_name": "Python 3"
    },
    "language_info": {
      "name": "python"
    }
  },
  "cells": [
    {
      "cell_type": "markdown",
      "metadata": {
        "id": "view-in-github",
        "colab_type": "text"
      },
      "source": [
        "<a href=\"https://colab.research.google.com/github/xrokirambox/practicas-en-lase-st1/blob/main/PR_0_C.ipynb\" target=\"_parent\"><img src=\"https://colab.research.google.com/assets/colab-badge.svg\" alt=\"Open In Colab\"/></a>"
      ]
    },
    {
      "cell_type": "markdown",
      "metadata": {
        "id": "KN1LyDIipc9h"
      },
      "source": [
        "# Práctica 0"
      ]
    },
    {
      "cell_type": "markdown",
      "metadata": {
        "id": "UEwPH6kEpahy"
      },
      "source": [
        "1. Diseñar un algoritmo que lea una variable  n  de tipo entero y la escriba."
      ]
    },
    {
      "cell_type": "markdown",
      "metadata": {
        "id": "JKUBMvHepanh"
      },
      "source": [
        "\n",
        "\n",
        "```\n",
        "Inicio // Lector Impresor de n\n",
        "\tEntero n   //  Se define la vble de tipo entero ,    Real x\n",
        "\tEscriba “Digite el valor de n=”\n",
        "\tLea ________  // Lea permite leer los valor de entrada al computador\n",
        "\tEscriba “Valor de n es igual a=”______\n",
        "Fin\n",
        "```\n",
        "\n"
      ]
    },
    {
      "cell_type": "code",
      "metadata": {
        "colab": {
          "base_uri": "https://localhost:8080/"
        },
        "id": "Q0V4vlrKpUsP",
        "outputId": "aa6f06f5-b624-4d6c-9ad8-f9b96ad5cbda"
      },
      "source": [
        "print(\"Código del Alumno: \")\n",
        "print(\"Nombre Completo del Alumno (Apellidos y Nombres): \")\n",
        "print(\"Programa al cual pertenece: \")\n",
        "print(\"Correo Uninorte: \")\n",
        "print(\"Celular:\")\n",
        "\n",
        "n = int(input(\"Digite un número: \"))\n",
        "print(\"Valor de n es igual a:\", n)\n"
      ],
      "execution_count": null,
      "outputs": [
        {
          "output_type": "stream",
          "name": "stdout",
          "text": [
            "Código del Alumno: \n",
            "Nombre Completo del Alumno (Apellidos y Nombres): \n",
            "Programa al cual pertenece: \n",
            "Correo Uninorte: \n",
            "Celular:\n",
            "Digite un número: 1\n",
            "Valor de n es igual a: 1\n"
          ]
        }
      ]
    },
    {
      "cell_type": "markdown",
      "metadata": {
        "id": "44p921Ggp8Hh"
      },
      "source": [
        "2. Diseñar un algoritmo que lea una variable  n  de tipo entero y escriba el valor sucesor de n."
      ]
    },
    {
      "cell_type": "markdown",
      "metadata": {
        "id": "tayiCp4lp-UB"
      },
      "source": [
        "\n",
        "\n",
        "```\n",
        "Inicio // Sucesor de n\n",
        "\tEntero n\n",
        "\tEscriba “Digite n=”\n",
        "\tLea n\n",
        "\tn = ______     //  Estructura de asignación\n",
        "\tEscriba “El valor final de n=”n\n",
        "Fin\n",
        "```\n",
        "\n"
      ]
    },
    {
      "cell_type": "code",
      "metadata": {
        "colab": {
          "base_uri": "https://localhost:8080/"
        },
        "id": "eSjrDQwaqB9P",
        "outputId": "6fc9c6b4-1ebc-4e7a-a2c2-5404cb2279f7"
      },
      "source": [
        "n = int (input(\"Digite n= \"))\n",
        "n = n+1\n",
        "print(\"Valor de final de n = \"+str(n))"
      ],
      "execution_count": null,
      "outputs": [
        {
          "output_type": "stream",
          "name": "stdout",
          "text": [
            "Digite n= 200\n",
            "Valor de final de n = 201\n"
          ]
        }
      ]
    },
    {
      "cell_type": "markdown",
      "metadata": {
        "id": "d3Ci3k-UqdCa"
      },
      "source": [
        "3. Diseñar un algoritmo para calcular el área de un rectángulo"
      ]
    },
    {
      "cell_type": "markdown",
      "metadata": {
        "id": "94RpAQ1gqgVC"
      },
      "source": [
        "\n",
        "\n",
        "```\n",
        "Inicio // Area de un rectángulo\n",
        "\tReal ___________\n",
        "\tEscriba “Digite la base=”\n",
        "\tLea b\n",
        "\tEscriba “Digite la altura=”\n",
        "\tLea ______  \n",
        "\tA = ________\n",
        "\tEscriba “Area del rectángulo=”A\n",
        "Fin\n",
        "```\n",
        "\n"
      ]
    },
    {
      "cell_type": "code",
      "metadata": {
        "colab": {
          "base_uri": "https://localhost:8080/"
        },
        "id": "hdEtwwasqlHJ",
        "outputId": "ed455a33-f757-408a-ad4e-a4324980e526"
      },
      "source": [
        "b = float(input(\"Digite la base = \"))\n",
        "h = float(input(\"Digite la altura = \"))\n",
        "A = b*h\n",
        "print(\"Area del rectángulo =\"+str(A))"
      ],
      "execution_count": null,
      "outputs": [
        {
          "output_type": "stream",
          "name": "stdout",
          "text": [
            "Digite la base = 2\n",
            "Digite la altura = 3\n",
            "Area del rectángulo =6.0\n"
          ]
        }
      ]
    },
    {
      "cell_type": "markdown",
      "metadata": {
        "id": "_YSXZD-fq-Re"
      },
      "source": [
        "4. Diseñar un algoritmo para calcular el área  (  A  )  de un círculo de radio  r  verificando que el radio es positivo"
      ]
    },
    {
      "cell_type": "markdown",
      "metadata": {
        "id": "di48GlI-rTcj"
      },
      "source": [
        "\n",
        "\n",
        "```\n",
        "Inicio // Area del ___________   \n",
        "\tReal ___,r,Pi\n",
        "\tEscriba “Digite el radio=”\n",
        "\tLea ____   //  r= -4.5\n",
        "\tPi = ______    // Es una constante\n",
        "\tSi (r>0) entonces // El flujo de control sale por verdadero si se cumple\n",
        "\t\tA = Pi*r*r  /  A = Pi*(r**2) , A = Pi* r^2,  A = Pi*r^2\n",
        "\t\tEscriba “Area del círculo de radio r=”r “es igual a:”A\n",
        "\tSi_no   // Sale cuando la condición es falsa\n",
        "\t\tEscriba “Error, valor del radio negativo =”r\n",
        "\tFin_si\n",
        "Fin\n",
        "\n",
        "```\n",
        "\n"
      ]
    },
    {
      "cell_type": "code",
      "metadata": {
        "colab": {
          "base_uri": "https://localhost:8080/"
        },
        "id": "ax5llBTFrQMS",
        "outputId": "76be57ec-616a-4f59-e252-65bb66acd186"
      },
      "source": [
        "r = float(input(\"Digite el radio = \"))\n",
        "Pi = 3.14\n",
        "if r > 0:\n",
        "  A = Pi*(r*r)\n",
        "  print(\"Area del círculo de radio r=\"+str(r)+\" es igual a:\"+str(A))\n",
        "else:\n",
        "  print(\"Error, valor del radio negativo =\"+str(r))"
      ],
      "execution_count": null,
      "outputs": [
        {
          "output_type": "stream",
          "name": "stdout",
          "text": [
            "Digite el radio = 3\n",
            "Area del círculo de radio r=3.0 es igual a:28.26\n"
          ]
        }
      ]
    },
    {
      "cell_type": "markdown",
      "metadata": {
        "id": "U2Ka3ImTsQ39"
      },
      "source": [
        "5. Diseñar un algoritmo tal que dado un valor X real clasificar el punto X, en la recta real para definir si es positivo, negativo o cero."
      ]
    },
    {
      "cell_type": "markdown",
      "metadata": {
        "id": "B5UO75rnsTGN"
      },
      "source": [
        "\n",
        "\n",
        "```\n",
        "Inicio // Clasificador de punto   X  en recta real\n",
        "\tReal X\n",
        "\tEscriba “ Digite X”\n",
        "\tLea X\n",
        "\tSi (X_______ 0) entonces // Sale por verdadero\n",
        "\t\tEscriba “El valor de X es cero=”X\n",
        "\tSi_no // Sale por falso\n",
        "\t\tSi (X>0) entonces\n",
        "\t\t\tEscriba “El valor de X es ______ =”X\n",
        "\t\tSi_no\n",
        "\t\t\tSi (X_____ 0) entonces\n",
        "\t\t\t\tEscriba “El valor de X es ________ =”X\n",
        "\t\t\tSi_no\n",
        "\t\t\t\tEscriba “_______ ”\n",
        "\t\t\tFin_si\n",
        "\t\tFin_si\n",
        "\tFin_si\n",
        "Fin\n",
        "```\n",
        "\n"
      ]
    },
    {
      "cell_type": "code",
      "metadata": {
        "colab": {
          "base_uri": "https://localhost:8080/"
        },
        "id": "oD2fSWo0sXWC",
        "outputId": "9d5f1a1b-41b2-4860-d7b8-66e150019874"
      },
      "source": [
        "X = float( input  (\"Digite X \"))\n",
        "if X == 0 :\n",
        "  print(\"El valor de X es igual a 0 =\"+str(X))\n",
        "else:\n",
        "  if X > 0:\n",
        "    print(\"El valor de X es mayor que x=\"+str(X))\n",
        "  else:\n",
        "    if X < 0:\n",
        "      print(\"El valor de X es menor que x=\"+str(X ))\n",
        "    else:\n",
        "      print(\"Error\")"
      ],
      "execution_count": null,
      "outputs": [
        {
          "output_type": "stream",
          "name": "stdout",
          "text": [
            "Digite X 2\n",
            "El valor de X es mayor que x=2.0\n"
          ]
        }
      ]
    },
    {
      "cell_type": "markdown",
      "metadata": {
        "id": "vXf425X-tc6U"
      },
      "source": [
        "6. Diseñar un algoritmo para calcular las raíces reales de una Ecuación Cuadrática <br>\n",
        "$y =  f(x)=  ax^2  +  bx +  c=0 $<br>\n",
        "$x_1  =  \\frac{(-b+ √(b^2-4*a*c))}{(2*a)}$<br>\n",
        "$x_2  =  \\frac{(-b- √(b^2-4*a*c))}{(2*a)}$"
      ]
    },
    {
      "cell_type": "markdown",
      "metadata": {
        "id": "CIiNsO69xTik"
      },
      "source": [
        "\n",
        "\n",
        "```\n",
        "Inicio // Raíces Reales de una Ecuación Cuadrática ..\n",
        "\tDoble Precisión  a,b,c,X1,X2,disc // Variables de doble precisión  double\n",
        "\tEscriba “Digite el valor a=”\n",
        "\t_______ // 1\n",
        "\tEscriba “Digite el valor _b__=” //2\n",
        "\t____ // 3\n",
        "\tEscriba “Digite ____________ =” //4\n",
        "\t_______ //5\n",
        "\tdisc = (b^2)-(4*a*c) // 6 Se calcula el discriminante   disc=b´2-4*a*c\n",
        "\tSi (disc__>___ 0 ) entonces  //6\n",
        "\t\t\tX1 = (( - __b__) + RAIZ(disc)) / ______  // 7     ,   //8\n",
        "\t\t\tX2 =                                                          //9\n",
        "\t\t\tEscriba “Raíz 1 =” ___X1__  //10\n",
        "\t\t\tEscriba “Raíz 2 =”__X2____ // 11\n",
        "\tSi_no\n",
        "\t\tEscriba “Raíces  NO  reales” // 12\n",
        "\tFin-si _____ //13\n",
        "Fin ______ //14\n",
        "```\n",
        "\n"
      ]
    },
    {
      "cell_type": "code",
      "metadata": {
        "colab": {
          "base_uri": "https://localhost:8080/"
        },
        "id": "j9OzVBCmxbYp",
        "outputId": "32bc5ae1-842b-4b5f-a28d-92189f25347e"
      },
      "source": [
        "a = float(input(\"Digite el valor a= \"))\n",
        "b = float(input(\"Digite el valor b= \"))\n",
        "c = float(input(\"Digite el valor c= \"))\n",
        "disc = (b**2)-(4*a*c)\n",
        "if disc > 0:\n",
        "  X1 = ((-b)-(disc**(0.5)))/(2*a )\n",
        "  X2 = ((-b )+(disc**(0.5)))/(2*a)\n",
        "  print(\"Raíz 1 = \"+str(X1))\n",
        "  print(\"Raíz 2 = \"+str(X))\n",
        "else:\n",
        "  print(\"Raíces no  reales\")"
      ],
      "execution_count": null,
      "outputs": [
        {
          "output_type": "stream",
          "name": "stdout",
          "text": [
            "Digite el valor a= 1\n",
            "Digite el valor b= -3\n",
            "Digite el valor c= 2\n",
            "Raíz 1 = 1.0\n",
            "Raíz 2 = 2.0\n"
          ]
        }
      ]
    },
    {
      "cell_type": "markdown",
      "metadata": {
        "id": "7F0GqQRtzB9b"
      },
      "source": [
        "7.  Diseñar un algoritmo que imprima los números de 1 a n, siendo el valor de n de tipo entero."
      ]
    },
    {
      "cell_type": "markdown",
      "metadata": {
        "id": "hXN8KWEZzEI6"
      },
      "source": [
        "\n",
        "\n",
        "```\n",
        "Inicio // Impresor de 1 a n\n",
        "\tEntero _____________  \n",
        "\tEscriba “Digite n=”\n",
        "\tLea n\n",
        "\ti=1\n",
        "\tMientras_que (i<=n)  haga // Se cumple por verdadero\n",
        "\t\tEscriba __________\n",
        "\t\ti=i______\n",
        "\tFin_Mq\n",
        "Fin\n",
        "```\n",
        "\n"
      ]
    },
    {
      "cell_type": "code",
      "metadata": {
        "colab": {
          "base_uri": "https://localhost:8080/"
        },
        "id": "FfFpIJxuzHZo",
        "outputId": "e05e01a6-ea7c-404f-e3c8-ac4f2ccf34c4"
      },
      "source": [
        "print(\"Código del Alumno= \")\n",
        "print(\"Nombre Completo del alumno (Apellidos y Nombres) = \")\n",
        "print (\"Programa al cual pertenece= \")\n",
        "print(\"Correo Uninorte= \")\n",
        "print(\"Celular=\")\n",
        "n = int(input(\"Digite el valor de n  n= \"))\n",
        "i=1\n",
        "while (i <= n):\n",
        "  print(i);\n",
        "  i = i+1"
      ],
      "execution_count": null,
      "outputs": [
        {
          "output_type": "stream",
          "name": "stdout",
          "text": [
            "Código del Alumno= \n",
            "Nombre Completo del alumno (Apellidos y Nombres) = \n",
            "Programa al cual pertenece= \n",
            "Correo Uninorte= \n",
            "Celular=\n",
            "Digite el valor de n  n= 10\n",
            "1\n",
            "2\n",
            "3\n",
            "4\n",
            "5\n",
            "6\n",
            "7\n",
            "8\n",
            "9\n",
            "10\n"
          ]
        }
      ]
    },
    {
      "cell_type": "markdown",
      "metadata": {
        "id": "a77tE5JZzYU7"
      },
      "source": [
        "8. Construya un algoritmo que calcule el valor en segundos de una edad de n años la cual es leída"
      ]
    },
    {
      "cell_type": "markdown",
      "metadata": {
        "id": "bM66HKU-r0Op"
      },
      "source": [
        "\n",
        "\n",
        "```\n",
        "Inicio\n",
        "  Entero n\n",
        "  Escriba \"Digite cuantos años tiene = \"\n",
        "  Lea ____\n",
        "  segundos = n*31556900\n",
        "  Escriba \"Ustes tiene\" segundos \" segundos vividos\"\n",
        "Fin\n",
        "```\n",
        "\n"
      ]
    },
    {
      "cell_type": "code",
      "metadata": {
        "colab": {
          "base_uri": "https://localhost:8080/"
        },
        "id": "GHLp-jUzzdva",
        "outputId": "13a42561-d308-4b65-8f4a-9dbc4053a356"
      },
      "source": [
        "#Año = 31536000 segundos\n",
        "#Año = 365 dias\n",
        "#365 Dias = 8760 horas\n",
        "#8760 horas = 525600 minutos\n",
        "#525600 minutos = 31536000 segundos\n",
        "n = int(input(\"Digite cuantos años tiene el infante   = \"))\n",
        "segundos = n*31536000\n",
        "print(\"Usted tiene \"+str(segundos )+\" segundos vividos\")"
      ],
      "execution_count": null,
      "outputs": [
        {
          "output_type": "stream",
          "name": "stdout",
          "text": [
            "Digite cuantos años tiene el infante   = 15\n",
            "Usted tiene 473040000 segundos vividos\n"
          ]
        }
      ]
    },
    {
      "cell_type": "markdown",
      "metadata": {
        "id": "TOewuf540PCB"
      },
      "source": [
        "9. Diseñe un algoritmo para calcular la Velocidad de un corredor, que recorre X kilómetros de distancia, en un tiempo de T horas. Considere en los cálculos variables reales."
      ]
    },
    {
      "cell_type": "markdown",
      "metadata": {
        "id": "D4VMvzuVsDcw"
      },
      "source": [
        "\n",
        "\n",
        "```\n",
        "Inicio\n",
        "  Real X,T,V\n",
        "  Escriba \"Digite cuantos kilometros recorrio = \"\n",
        "  Lea _____\n",
        "  Escriba \"Digite cuantos hora se demoro = \"\n",
        "  Lea ____\n",
        "  V= __________  \n",
        "  Escriba \"El promedio de velocidad del corredor es igual a: \" V \" km/h\"\n",
        "Fin\n",
        "```\n",
        "\n"
      ]
    },
    {
      "cell_type": "code",
      "metadata": {
        "colab": {
          "base_uri": "https://localhost:8080/"
        },
        "id": "aoN3eORh0Pup",
        "outputId": "0c125ad5-2232-4a75-9452-2778885c814d"
      },
      "source": [
        "X = float(input(\"Digite cuantos kilometros recorrio = \"))\n",
        "T = float(input(\"Digite cuantas horas se demoro = \"))\n",
        "V = T/X\n",
        "print(\"El promedio de velocidad del corredor es igual a: \"+str(V)+\" km/h\")"
      ],
      "execution_count": null,
      "outputs": [
        {
          "output_type": "stream",
          "name": "stdout",
          "text": [
            "Digite cuantos kilometros recorrio = 3\n",
            "Digite cuantas horas se demoro = 0.3\n",
            "El promedio de velocidad del corredor es igual a: 0.09999999999999999 km/h\n"
          ]
        }
      ]
    },
    {
      "cell_type": "markdown",
      "metadata": {
        "id": "HKjjNcxG07wL"
      },
      "source": [
        "10. Construya  un algoritmo que imprima los números impares de 1 a n, con el ciclo Mientras_que ( Mq )."
      ]
    },
    {
      "cell_type": "markdown",
      "metadata": {
        "id": "oGsM-tAdsZxw"
      },
      "source": [
        "\n",
        "\n",
        "```\n",
        "Inicio\n",
        "  Entero n, i\n",
        "  Escriba \"Digite n= \"\n",
        "  Lea _____\n",
        "  i=____\n",
        "  MientraQue (i<=n)\n",
        "    Si (i%2 ==1)\n",
        "      Escriba ____\n",
        "    i = i+1\n",
        "Fin\n",
        "```\n",
        "\n"
      ]
    },
    {
      "cell_type": "code",
      "metadata": {
        "colab": {
          "base_uri": "https://localhost:8080/"
        },
        "id": "oTiYsMuB08iL",
        "outputId": "4066644a-042f-4b5b-8665-63224c71803b"
      },
      "source": [
        "n = int(input(\"Digite n= \"))\n",
        "i=1\n",
        "while (i <=  n):\n",
        "  if i % 2 == 1:\n",
        "    print(i)\n",
        "  i = i + 1"
      ],
      "execution_count": 1,
      "outputs": [
        {
          "output_type": "stream",
          "name": "stdout",
          "text": [
            "Digite n= 10\n",
            "1\n",
            "3\n",
            "5\n",
            "7\n",
            "9\n"
          ]
        }
      ]
    }
  ]
}